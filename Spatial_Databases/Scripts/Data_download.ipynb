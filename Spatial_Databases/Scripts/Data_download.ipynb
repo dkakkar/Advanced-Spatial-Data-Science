{
 "cells": [
  {
   "cell_type": "code",
   "execution_count": 1,
   "id": "1d86a5da-92c9-44d3-8a12-4f760fa773ad",
   "metadata": {},
   "outputs": [],
   "source": [
    "import os\n",
    "import requests\n",
    "from bs4 import BeautifulSoup\n",
    "import zipfile\n",
    "\n",
    "# URL to the PRISM 2025 daily precipitation data\n",
    "BASE_URL = \"https://data.prism.oregonstate.edu/daily/ppt/2025/\"\n",
    "DOWNLOAD_DIR = \"prism_2025_ppt\"\n",
    "UNZIP_DIR = os.path.join(DOWNLOAD_DIR, \"unzipped\")\n",
    "\n",
    "# Create directories if they don't exist\n",
    "os.makedirs(DOWNLOAD_DIR, exist_ok=True)\n",
    "os.makedirs(UNZIP_DIR, exist_ok=True)\n",
    "\n",
    "# Step 1: Scrape the file list from the webpage\n",
    "response = requests.get(BASE_URL)\n",
    "soup = BeautifulSoup(response.text, 'html.parser')\n",
    "\n",
    "# Step 2: Find all .zip links\n",
    "file_links = [a['href'] for a in soup.find_all('a', href=True)\n",
    "              if a['href'].endswith('.zip')]\n",
    "\n",
    "# Step 3: Download and unzip each file\n",
    "for file_name in (file_links):\n",
    "    file_url = BASE_URL + file_name\n",
    "    local_zip_path = os.path.join(DOWNLOAD_DIR, file_name)\n",
    "\n",
    "    # Download file if not already present\n",
    "    if not os.path.exists(local_zip_path):\n",
    "        with requests.get(file_url, stream=True) as r:\n",
    "            r.raise_for_status()\n",
    "            with open(local_zip_path, 'wb') as f:\n",
    "                for chunk in r.iter_content(chunk_size=8192):\n",
    "                    f.write(chunk)\n",
    "\n",
    "    # Unzip file\n",
    "    with zipfile.ZipFile(local_zip_path, 'r') as zip_ref:\n",
    "        zip_ref.extractall(UNZIP_DIR)"
   ]
  },
  {
   "cell_type": "code",
   "execution_count": null,
   "id": "8f888a2b-2a05-4459-b673-ca0d12ad3fae",
   "metadata": {},
   "outputs": [],
   "source": []
  }
 ],
 "metadata": {
  "kernelspec": {
   "display_name": "Python 3 (ipykernel)",
   "language": "python",
   "name": "python3"
  },
  "language_info": {
   "codemirror_mode": {
    "name": "ipython",
    "version": 3
   },
   "file_extension": ".py",
   "mimetype": "text/x-python",
   "name": "python",
   "nbconvert_exporter": "python",
   "pygments_lexer": "ipython3",
   "version": "3.13.3"
  }
 },
 "nbformat": 4,
 "nbformat_minor": 5
}
